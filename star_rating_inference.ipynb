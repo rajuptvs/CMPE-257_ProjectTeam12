{
 "cells": [
  {
   "cell_type": "code",
   "execution_count": 140,
   "metadata": {},
   "outputs": [],
   "source": [
    "import pandas as pd\n",
    "import numpy as np\n",
    "import matplotlib.pyplot as plt\n",
    "import seaborn as sns\n",
    "import nltk\n",
    "from nltk.corpus import stopwords\n",
    "from tqdm import tqdm\n",
    "from tqdm import tqdm_notebook\n",
    "import string\n",
    "from collections import Counter\n",
    "import itertools\n",
    "from sklearn import metrics\n",
    "from sklearn.feature_extraction.text import TfidfVectorizer\n",
    "from sklearn.svm import LinearSVC\n",
    "from sklearn.pipeline import Pipeline, FeatureUnion\n",
    "from sklearn.model_selection import train_test_split\n",
    "from sklearn.metrics import accuracy_score,precision_score,recall_score,classification_report\n",
    "import pickle\n",
    "from tqdm.auto import tqdm\n",
    "tqdm.pandas()\n",
    "## pip install swifter #for parallelization\n",
    "import swifter"
   ]
  },
  {
   "cell_type": "markdown",
   "metadata": {},
   "source": [
    "## Initial Model"
   ]
  },
  {
   "cell_type": "code",
   "execution_count": 4,
   "metadata": {},
   "outputs": [],
   "source": [
    "ca_restaurant_reviews=pd.read_csv(\"california_restaurants.csv\")\n",
    "ca_restaurant_reviews=ca_restaurant_reviews.reset_index(drop = True)"
   ]
  },
  {
   "cell_type": "code",
   "execution_count": 12,
   "metadata": {},
   "outputs": [
    {
     "name": "stderr",
     "output_type": "stream",
     "text": [
      " 49%|████▉     | 101414/205465 [00:59<01:00, 1707.86it/s]\n",
      "100%|█████████▉| 205464/205465 [01:08<00:00, 2980.38it/s]\n"
     ]
    }
   ],
   "source": [
    "# texts = []\n",
    "# stars = [ca_restaurant_reviews['review_stars'] for review in ca_restaurant_reviews]\n",
    "# pbar = tqdm(total=ca_restaurant_reviews.shape[0]+1)\n",
    "# for index, row in ca_restaurant_reviews.iterrows():\n",
    "#     texts.append(clean_text(row['text']))\n",
    "#     pbar.update(1)\n",
    "# pbar.close()"
   ]
  },
  {
   "cell_type": "code",
   "execution_count": 13,
   "metadata": {},
   "outputs": [
    {
     "data": {
      "text/html": [
       "<div>\n",
       "<style scoped>\n",
       "    .dataframe tbody tr th:only-of-type {\n",
       "        vertical-align: middle;\n",
       "    }\n",
       "\n",
       "    .dataframe tbody tr th {\n",
       "        vertical-align: top;\n",
       "    }\n",
       "\n",
       "    .dataframe thead th {\n",
       "        text-align: right;\n",
       "    }\n",
       "</style>\n",
       "<table border=\"1\" class=\"dataframe\">\n",
       "  <thead>\n",
       "    <tr style=\"text-align: right;\">\n",
       "      <th></th>\n",
       "      <th>Unnamed: 0</th>\n",
       "      <th>business_id</th>\n",
       "      <th>name</th>\n",
       "      <th>address</th>\n",
       "      <th>city</th>\n",
       "      <th>state</th>\n",
       "      <th>postal_code</th>\n",
       "      <th>latitude</th>\n",
       "      <th>longitude</th>\n",
       "      <th>stars</th>\n",
       "      <th>review_count</th>\n",
       "      <th>is_open</th>\n",
       "      <th>attributes</th>\n",
       "      <th>categories</th>\n",
       "      <th>hours</th>\n",
       "      <th>user_id</th>\n",
       "      <th>review_stars</th>\n",
       "      <th>text</th>\n",
       "      <th>date</th>\n",
       "    </tr>\n",
       "  </thead>\n",
       "  <tbody>\n",
       "    <tr>\n",
       "      <th>0</th>\n",
       "      <td>2456</td>\n",
       "      <td>IDtLPgUrqorrpqSLdfMhZQ</td>\n",
       "      <td>Helena Avenue Bakery</td>\n",
       "      <td>131 Anacapa St, Ste C</td>\n",
       "      <td>Santa Barbara</td>\n",
       "      <td>CA</td>\n",
       "      <td>93101</td>\n",
       "      <td>34.414445</td>\n",
       "      <td>-119.690672</td>\n",
       "      <td>4.0</td>\n",
       "      <td>389</td>\n",
       "      <td>1</td>\n",
       "      <td>{'RestaurantsTakeOut': 'True', 'NoiseLevel': \"...</td>\n",
       "      <td>Restaurants</td>\n",
       "      <td>{'Monday': '0:0-0:0', 'Tuesday': '8:0-14:0', '...</td>\n",
       "      <td>bFPdtzu11Oi0f92EAcjqmg</td>\n",
       "      <td>5</td>\n",
       "      <td>What a great addition to the Funk Zone!  Grab ...</td>\n",
       "      <td>2016-10-13 22:50:47</td>\n",
       "    </tr>\n",
       "  </tbody>\n",
       "</table>\n",
       "</div>"
      ],
      "text/plain": [
       "   Unnamed: 0             business_id                  name  \\\n",
       "0        2456  IDtLPgUrqorrpqSLdfMhZQ  Helena Avenue Bakery   \n",
       "\n",
       "                 address           city state  postal_code   latitude  \\\n",
       "0  131 Anacapa St, Ste C  Santa Barbara    CA        93101  34.414445   \n",
       "\n",
       "    longitude  stars  review_count  is_open  \\\n",
       "0 -119.690672    4.0           389        1   \n",
       "\n",
       "                                          attributes   categories  \\\n",
       "0  {'RestaurantsTakeOut': 'True', 'NoiseLevel': \"...  Restaurants   \n",
       "\n",
       "                                               hours                 user_id  \\\n",
       "0  {'Monday': '0:0-0:0', 'Tuesday': '8:0-14:0', '...  bFPdtzu11Oi0f92EAcjqmg   \n",
       "\n",
       "   review_stars                                               text  \\\n",
       "0             5  What a great addition to the Funk Zone!  Grab ...   \n",
       "\n",
       "                  date  \n",
       "0  2016-10-13 22:50:47  "
      ]
     },
     "execution_count": 13,
     "metadata": {},
     "output_type": "execute_result"
    }
   ],
   "source": [
    "ca_restaurant_reviews.head(1)"
   ]
  },
  {
   "cell_type": "code",
   "execution_count": 33,
   "metadata": {},
   "outputs": [
    {
     "data": {
      "text/plain": [
       "pandas.core.series.Series"
      ]
     },
     "execution_count": 33,
     "metadata": {},
     "output_type": "execute_result"
    }
   ],
   "source": []
  },
  {
   "cell_type": "code",
   "execution_count": 14,
   "metadata": {},
   "outputs": [],
   "source": [
    "texts = [ca_restaurant_reviews['text'] for review in ca_restaurant_reviews]"
   ]
  },
  {
   "cell_type": "code",
   "execution_count": 40,
   "metadata": {},
   "outputs": [],
   "source": [
    "new_text=ca_restaurant_reviews['text'].values.tolist()\n",
    "new_stars=ca_restaurant_reviews[\"review_stars\"].values.tolist()"
   ]
  },
  {
   "cell_type": "code",
   "execution_count": 44,
   "metadata": {},
   "outputs": [],
   "source": [
    "X_train, X_test, y_train, y_test = train_test_split(new_text, new_stars, test_size=0.15, random_state=42, shuffle =False)"
   ]
  },
  {
   "cell_type": "code",
   "execution_count": 50,
   "metadata": {},
   "outputs": [],
   "source": [
    "training_pipe=Pipeline([(\"Vectorization\",TfidfVectorizer()),(\"SVC\",LinearSVC())])"
   ]
  },
  {
   "cell_type": "code",
   "execution_count": 51,
   "metadata": {},
   "outputs": [
    {
     "data": {
      "text/plain": [
       "Pipeline(steps=[('Vectorization', TfidfVectorizer()), ('SVC', LinearSVC())])"
      ]
     },
     "execution_count": 51,
     "metadata": {},
     "output_type": "execute_result"
    }
   ],
   "source": [
    "training_pipe"
   ]
  },
  {
   "cell_type": "code",
   "execution_count": 48,
   "metadata": {},
   "outputs": [
    {
     "data": {
      "text/plain": [
       "5"
      ]
     },
     "execution_count": 48,
     "metadata": {},
     "output_type": "execute_result"
    }
   ],
   "source": [
    "y_train[0]"
   ]
  },
  {
   "cell_type": "code",
   "execution_count": 52,
   "metadata": {},
   "outputs": [
    {
     "data": {
      "text/plain": [
       "Pipeline(steps=[('Vectorization', TfidfVectorizer()), ('SVC', LinearSVC())])"
      ]
     },
     "execution_count": 52,
     "metadata": {},
     "output_type": "execute_result"
    }
   ],
   "source": [
    "training_pipe.fit(X_train,y_train)"
   ]
  },
  {
   "cell_type": "code",
   "execution_count": 67,
   "metadata": {},
   "outputs": [],
   "source": [
    "out=training_pipe.predict(['Worst Restaurant'])[0]"
   ]
  },
  {
   "cell_type": "code",
   "execution_count": 68,
   "metadata": {},
   "outputs": [
    {
     "data": {
      "text/plain": [
       "1"
      ]
     },
     "execution_count": 68,
     "metadata": {},
     "output_type": "execute_result"
    }
   ],
   "source": [
    "out"
   ]
  },
  {
   "cell_type": "code",
   "execution_count": null,
   "metadata": {},
   "outputs": [],
   "source": [
    "with open('svcpipe.pickle', 'wb') as f:\n",
    "  pickle.dump(training_pipe, f)"
   ]
  },
  {
   "cell_type": "code",
   "execution_count": 75,
   "metadata": {},
   "outputs": [
    {
     "data": {
      "text/plain": [
       "3"
      ]
     },
     "execution_count": 75,
     "metadata": {},
     "output_type": "execute_result"
    }
   ],
   "source": [
    "\n",
    "with open('svcpipe.pickle', 'rb') as f:\n",
    "  loadedpipe = pickle.load(f)\n",
    "testing=loadedpipe.predict([\"This is a good restaurant, but the service is average\"])\n",
    "testing[0]"
   ]
  },
  {
   "cell_type": "code",
   "execution_count": 84,
   "metadata": {},
   "outputs": [
    {
     "name": "stdout",
     "output_type": "stream",
     "text": [
      "Training set score: 0.7952177000068711\n",
      "Test set score: 0.6995133030499675\n"
     ]
    }
   ],
   "source": [
    "print('Training set score: ' + str(loadedpipe.score(X_train,y_train)))\n",
    "print('Test set score: ' + str(loadedpipe.score(X_test,y_test)))\n"
   ]
  },
  {
   "cell_type": "markdown",
   "metadata": {},
   "source": [
    "### SVC"
   ]
  },
  {
   "cell_type": "code",
   "execution_count": 79,
   "metadata": {},
   "outputs": [],
   "source": [
    "from sklearn.feature_extraction.text import CountVectorizer,TfidfTransformer\n",
    "from sklearn.naive_bayes import MultinomialNB\n",
    "\n"
   ]
  },
  {
   "cell_type": "code",
   "execution_count": 81,
   "metadata": {},
   "outputs": [],
   "source": [
    "newpipeline = Pipeline([('vect', CountVectorizer()),\n",
    "    ('tfidf', TfidfTransformer()), \n",
    "    ('clf', LinearSVC())])"
   ]
  },
  {
   "cell_type": "code",
   "execution_count": 82,
   "metadata": {},
   "outputs": [
    {
     "data": {
      "text/plain": [
       "Pipeline(steps=[('vect', CountVectorizer()), ('tfidf', TfidfTransformer()),\n",
       "                ('clf', LinearSVC())])"
      ]
     },
     "execution_count": 82,
     "metadata": {},
     "output_type": "execute_result"
    }
   ],
   "source": [
    "newpipeline.fit(X_train,y_train)"
   ]
  },
  {
   "cell_type": "code",
   "execution_count": 83,
   "metadata": {},
   "outputs": [
    {
     "name": "stdout",
     "output_type": "stream",
     "text": [
      "Training set score: 0.7952177000068711\n",
      "Test set score: 0.6995133030499675\n"
     ]
    }
   ],
   "source": [
    "print('Training set score: ' + str(newpipeline.score(X_train,y_train)))\n",
    "print('Test set score: ' + str(newpipeline.score(X_test,y_test)))"
   ]
  },
  {
   "cell_type": "markdown",
   "metadata": {},
   "source": [
    "### NaiveBayes model"
   ]
  },
  {
   "cell_type": "code",
   "execution_count": 85,
   "metadata": {},
   "outputs": [],
   "source": [
    "naivebayespipe = Pipeline([('vect', CountVectorizer()),\n",
    "    ('tfidf', TfidfTransformer()), \n",
    "    ('clf', MultinomialNB())])"
   ]
  },
  {
   "cell_type": "code",
   "execution_count": 86,
   "metadata": {},
   "outputs": [
    {
     "data": {
      "text/plain": [
       "Pipeline(steps=[('vect', CountVectorizer()), ('tfidf', TfidfTransformer()),\n",
       "                ('clf', MultinomialNB())])"
      ]
     },
     "execution_count": 86,
     "metadata": {},
     "output_type": "execute_result"
    }
   ],
   "source": [
    "naivebayespipe.fit(X_train,y_train)"
   ]
  },
  {
   "cell_type": "code",
   "execution_count": 87,
   "metadata": {},
   "outputs": [
    {
     "name": "stdout",
     "output_type": "stream",
     "text": [
      "Training set score: 0.5564634341861158\n",
      "Test set score: 0.5980856586632057\n"
     ]
    }
   ],
   "source": [
    "print('Training set score: ' + str(naivebayespipe.score(X_train,y_train)))\n",
    "print('Test set score: ' + str(naivebayespipe.score(X_test,y_test)))"
   ]
  },
  {
   "cell_type": "markdown",
   "metadata": {},
   "source": [
    "### SGD Classifier"
   ]
  },
  {
   "cell_type": "code",
   "execution_count": 94,
   "metadata": {},
   "outputs": [],
   "source": [
    "from sklearn.linear_model import SGDClassifier\n",
    "\n",
    "svmpipe = Pipeline([('vect', CountVectorizer()),('tfidf', TfidfTransformer()),('clf-svm', SGDClassifier(loss='modified_huber', penalty='l1',alpha=1e-3, random_state=42)) ])"
   ]
  },
  {
   "cell_type": "code",
   "execution_count": 95,
   "metadata": {},
   "outputs": [
    {
     "data": {
      "text/plain": [
       "Pipeline(steps=[('vect', CountVectorizer()), ('tfidf', TfidfTransformer()),\n",
       "                ('clf-svm',\n",
       "                 SGDClassifier(alpha=0.001, loss='modified_huber', penalty='l1',\n",
       "                               random_state=42))])"
      ]
     },
     "execution_count": 95,
     "metadata": {},
     "output_type": "execute_result"
    }
   ],
   "source": [
    "svmpipe.fit(X_train,y_train)"
   ]
  },
  {
   "cell_type": "code",
   "execution_count": 96,
   "metadata": {},
   "outputs": [
    {
     "name": "stdout",
     "output_type": "stream",
     "text": [
      "Training set score: 0.5978562103479077\n",
      "Test set score: 0.6426346528228423\n"
     ]
    }
   ],
   "source": [
    "print('Training set score: ' + str(svmpipe.score(X_train,y_train)))\n",
    "print('Test set score: ' + str(svmpipe.score(X_test,y_test)))"
   ]
  },
  {
   "cell_type": "markdown",
   "metadata": {},
   "source": [
    "## PreProcess Steps"
   ]
  },
  {
   "cell_type": "code",
   "execution_count": 97,
   "metadata": {},
   "outputs": [
    {
     "data": {
      "text/html": [
       "<div>\n",
       "<style scoped>\n",
       "    .dataframe tbody tr th:only-of-type {\n",
       "        vertical-align: middle;\n",
       "    }\n",
       "\n",
       "    .dataframe tbody tr th {\n",
       "        vertical-align: top;\n",
       "    }\n",
       "\n",
       "    .dataframe thead th {\n",
       "        text-align: right;\n",
       "    }\n",
       "</style>\n",
       "<table border=\"1\" class=\"dataframe\">\n",
       "  <thead>\n",
       "    <tr style=\"text-align: right;\">\n",
       "      <th></th>\n",
       "      <th>Unnamed: 0</th>\n",
       "      <th>business_id</th>\n",
       "      <th>name</th>\n",
       "      <th>address</th>\n",
       "      <th>city</th>\n",
       "      <th>state</th>\n",
       "      <th>postal_code</th>\n",
       "      <th>latitude</th>\n",
       "      <th>longitude</th>\n",
       "      <th>stars</th>\n",
       "      <th>review_count</th>\n",
       "      <th>is_open</th>\n",
       "      <th>attributes</th>\n",
       "      <th>categories</th>\n",
       "      <th>hours</th>\n",
       "      <th>user_id</th>\n",
       "      <th>review_stars</th>\n",
       "      <th>text</th>\n",
       "      <th>date</th>\n",
       "    </tr>\n",
       "  </thead>\n",
       "  <tbody>\n",
       "    <tr>\n",
       "      <th>0</th>\n",
       "      <td>2456</td>\n",
       "      <td>IDtLPgUrqorrpqSLdfMhZQ</td>\n",
       "      <td>Helena Avenue Bakery</td>\n",
       "      <td>131 Anacapa St, Ste C</td>\n",
       "      <td>Santa Barbara</td>\n",
       "      <td>CA</td>\n",
       "      <td>93101</td>\n",
       "      <td>34.414445</td>\n",
       "      <td>-119.690672</td>\n",
       "      <td>4.0</td>\n",
       "      <td>389</td>\n",
       "      <td>1</td>\n",
       "      <td>{'RestaurantsTakeOut': 'True', 'NoiseLevel': \"...</td>\n",
       "      <td>Restaurants</td>\n",
       "      <td>{'Monday': '0:0-0:0', 'Tuesday': '8:0-14:0', '...</td>\n",
       "      <td>bFPdtzu11Oi0f92EAcjqmg</td>\n",
       "      <td>5</td>\n",
       "      <td>What a great addition to the Funk Zone!  Grab ...</td>\n",
       "      <td>2016-10-13 22:50:47</td>\n",
       "    </tr>\n",
       "  </tbody>\n",
       "</table>\n",
       "</div>"
      ],
      "text/plain": [
       "   Unnamed: 0             business_id                  name  \\\n",
       "0        2456  IDtLPgUrqorrpqSLdfMhZQ  Helena Avenue Bakery   \n",
       "\n",
       "                 address           city state  postal_code   latitude  \\\n",
       "0  131 Anacapa St, Ste C  Santa Barbara    CA        93101  34.414445   \n",
       "\n",
       "    longitude  stars  review_count  is_open  \\\n",
       "0 -119.690672    4.0           389        1   \n",
       "\n",
       "                                          attributes   categories  \\\n",
       "0  {'RestaurantsTakeOut': 'True', 'NoiseLevel': \"...  Restaurants   \n",
       "\n",
       "                                               hours                 user_id  \\\n",
       "0  {'Monday': '0:0-0:0', 'Tuesday': '8:0-14:0', '...  bFPdtzu11Oi0f92EAcjqmg   \n",
       "\n",
       "   review_stars                                               text  \\\n",
       "0             5  What a great addition to the Funk Zone!  Grab ...   \n",
       "\n",
       "                  date  \n",
       "0  2016-10-13 22:50:47  "
      ]
     },
     "execution_count": 97,
     "metadata": {},
     "output_type": "execute_result"
    }
   ],
   "source": [
    "ca_restaurant_reviews.head(1)"
   ]
  },
  {
   "cell_type": "code",
   "execution_count": 99,
   "metadata": {},
   "outputs": [],
   "source": [
    "df=ca_restaurant_reviews[[\"review_stars\",\"text\"]]"
   ]
  },
  {
   "cell_type": "code",
   "execution_count": 100,
   "metadata": {},
   "outputs": [
    {
     "data": {
      "text/html": [
       "<div>\n",
       "<style scoped>\n",
       "    .dataframe tbody tr th:only-of-type {\n",
       "        vertical-align: middle;\n",
       "    }\n",
       "\n",
       "    .dataframe tbody tr th {\n",
       "        vertical-align: top;\n",
       "    }\n",
       "\n",
       "    .dataframe thead th {\n",
       "        text-align: right;\n",
       "    }\n",
       "</style>\n",
       "<table border=\"1\" class=\"dataframe\">\n",
       "  <thead>\n",
       "    <tr style=\"text-align: right;\">\n",
       "      <th></th>\n",
       "      <th>review_stars</th>\n",
       "      <th>text</th>\n",
       "    </tr>\n",
       "  </thead>\n",
       "  <tbody>\n",
       "    <tr>\n",
       "      <th>0</th>\n",
       "      <td>5</td>\n",
       "      <td>What a great addition to the Funk Zone!  Grab ...</td>\n",
       "    </tr>\n",
       "    <tr>\n",
       "      <th>1</th>\n",
       "      <td>5</td>\n",
       "      <td>Possibly the best breakfast sandwich EVER.  On...</td>\n",
       "    </tr>\n",
       "    <tr>\n",
       "      <th>2</th>\n",
       "      <td>4</td>\n",
       "      <td>Pricey ( a ham and cheese croissant was $5.50)...</td>\n",
       "    </tr>\n",
       "    <tr>\n",
       "      <th>3</th>\n",
       "      <td>5</td>\n",
       "      <td>Are you kidding me? This is without a doubt so...</td>\n",
       "    </tr>\n",
       "    <tr>\n",
       "      <th>4</th>\n",
       "      <td>2</td>\n",
       "      <td>Super slow service, \"salads\" are not very good...</td>\n",
       "    </tr>\n",
       "    <tr>\n",
       "      <th>...</th>\n",
       "      <td>...</td>\n",
       "      <td>...</td>\n",
       "    </tr>\n",
       "    <tr>\n",
       "      <th>205459</th>\n",
       "      <td>5</td>\n",
       "      <td>This is one of my new favorite pizza joints he...</td>\n",
       "    </tr>\n",
       "    <tr>\n",
       "      <th>205460</th>\n",
       "      <td>4</td>\n",
       "      <td>Ordered vegan chicken and Daiya cheese and onl...</td>\n",
       "    </tr>\n",
       "    <tr>\n",
       "      <th>205461</th>\n",
       "      <td>1</td>\n",
       "      <td>This was the worst pizza I've ever had ever ea...</td>\n",
       "    </tr>\n",
       "    <tr>\n",
       "      <th>205462</th>\n",
       "      <td>5</td>\n",
       "      <td>One of the best pizzas in SB....seriously!!!\\n...</td>\n",
       "    </tr>\n",
       "    <tr>\n",
       "      <th>205463</th>\n",
       "      <td>5</td>\n",
       "      <td>We wanted a calzone and it was getting around ...</td>\n",
       "    </tr>\n",
       "  </tbody>\n",
       "</table>\n",
       "<p>205464 rows × 2 columns</p>\n",
       "</div>"
      ],
      "text/plain": [
       "        review_stars                                               text\n",
       "0                  5  What a great addition to the Funk Zone!  Grab ...\n",
       "1                  5  Possibly the best breakfast sandwich EVER.  On...\n",
       "2                  4  Pricey ( a ham and cheese croissant was $5.50)...\n",
       "3                  5  Are you kidding me? This is without a doubt so...\n",
       "4                  2  Super slow service, \"salads\" are not very good...\n",
       "...              ...                                                ...\n",
       "205459             5  This is one of my new favorite pizza joints he...\n",
       "205460             4  Ordered vegan chicken and Daiya cheese and onl...\n",
       "205461             1  This was the worst pizza I've ever had ever ea...\n",
       "205462             5  One of the best pizzas in SB....seriously!!!\\n...\n",
       "205463             5  We wanted a calzone and it was getting around ...\n",
       "\n",
       "[205464 rows x 2 columns]"
      ]
     },
     "execution_count": 100,
     "metadata": {},
     "output_type": "execute_result"
    }
   ],
   "source": [
    "df"
   ]
  },
  {
   "cell_type": "code",
   "execution_count": 102,
   "metadata": {},
   "outputs": [
    {
     "name": "stdout",
     "output_type": "stream",
     "text": [
      "Average characters in 5-star reviews 421.1385576266224\n",
      "Average characters in 1-star reviews 652.0448895027624\n"
     ]
    },
    {
     "name": "stderr",
     "output_type": "stream",
     "text": [
      "c:\\Users\\Rajup\\anaconda3\\envs\\testinggrounds\\lib\\site-packages\\ipykernel_launcher.py:1: SettingWithCopyWarning: \n",
      "A value is trying to be set on a copy of a slice from a DataFrame.\n",
      "Try using .loc[row_indexer,col_indexer] = value instead\n",
      "\n",
      "See the caveats in the documentation: https://pandas.pydata.org/pandas-docs/stable/user_guide/indexing.html#returning-a-view-versus-a-copy\n",
      "  \"\"\"Entry point for launching an IPython kernel.\n"
     ]
    }
   ],
   "source": [
    "df['char_count'] = df['text'].apply(lambda x: len(str(x)))\n",
    "print(\"Average characters in 5-star reviews\",df[df['review_stars']==5]['char_count'].mean())\n",
    "print(\"Average characters in 1-star reviews\",df[df['review_stars']==1]['char_count'].mean())"
   ]
  },
  {
   "cell_type": "code",
   "execution_count": 103,
   "metadata": {},
   "outputs": [
    {
     "name": "stderr",
     "output_type": "stream",
     "text": [
      "[nltk_data] Downloading package punkt to\n",
      "[nltk_data]     C:\\Users\\Rajup\\AppData\\Roaming\\nltk_data...\n",
      "[nltk_data]   Unzipping tokenizers\\punkt.zip.\n",
      "[nltk_data] Downloading package averaged_perceptron_tagger to\n",
      "[nltk_data]     C:\\Users\\Rajup\\AppData\\Roaming\\nltk_data...\n",
      "[nltk_data]   Unzipping taggers\\averaged_perceptron_tagger.zip.\n",
      "[nltk_data] Downloading package wordnet to\n",
      "[nltk_data]     C:\\Users\\Rajup\\AppData\\Roaming\\nltk_data...\n"
     ]
    },
    {
     "data": {
      "text/plain": [
       "True"
      ]
     },
     "execution_count": 103,
     "metadata": {},
     "output_type": "execute_result"
    }
   ],
   "source": [
    "import re, string\n",
    "import nltk\n",
    "from nltk.tokenize import word_tokenize\n",
    "from nltk.corpus import stopwords\n",
    "from nltk.tokenize import word_tokenize\n",
    "from nltk.stem import SnowballStemmer\n",
    "from nltk.corpus import wordnet\n",
    "from nltk.stem import WordNetLemmatizer\n",
    "nltk.download('punkt')\n",
    "nltk.download('averaged_perceptron_tagger')\n",
    "nltk.download('wordnet')\n",
    "nltk.download('omw-1.4')"
   ]
  },
  {
   "cell_type": "code",
   "execution_count": 104,
   "metadata": {},
   "outputs": [],
   "source": [
    "def preprocess(text):\n",
    "    text = text.lower() \n",
    "    text=text.strip()  \n",
    "    text=re.compile('<.*?>').sub('', text) \n",
    "    text = re.compile('[%s]' % re.escape(string.punctuation)).sub(' ', text)  \n",
    "    text = re.sub('\\s+', ' ', text)  \n",
    "    text = re.sub(r'\\[[0-9]*\\]',' ',text) \n",
    "    text=re.sub(r'[^\\w\\s]', '', str(text).lower().strip())\n",
    "    text = re.sub(r'\\d',' ',text) \n",
    "    text = re.sub(r'\\s+',' ',text) \n",
    "    return text"
   ]
  },
  {
   "cell_type": "code",
   "execution_count": 105,
   "metadata": {},
   "outputs": [],
   "source": [
    "def stopword(string):\n",
    "    a= [i for i in string.split() if i not in stopwords.words('english')]\n",
    "    return ' '.join(a)"
   ]
  },
  {
   "cell_type": "code",
   "execution_count": 106,
   "metadata": {},
   "outputs": [],
   "source": [
    "wl = WordNetLemmatizer()\n",
    "def get_wordnet_pos(tag):\n",
    "    if tag.startswith('J'):\n",
    "        return wordnet.ADJ\n",
    "    elif tag.startswith('V'):\n",
    "        return wordnet.VERB\n",
    "    elif tag.startswith('N'):\n",
    "        return wordnet.NOUN\n",
    "    elif tag.startswith('R'):\n",
    "        return wordnet.ADV\n",
    "    else:\n",
    "        return wordnet.NOUN\n",
    "\n",
    "def lemmatizer(string):\n",
    "    word_pos_tags = nltk.pos_tag(word_tokenize(string))\n",
    "    a=[wl.lemmatize(tag[0], get_wordnet_pos(tag[1])) for idx, tag in enumerate(word_pos_tags)] # Map the position tag and lemmatize the word/token\n",
    "    return \" \".join(a)"
   ]
  },
  {
   "cell_type": "code",
   "execution_count": 107,
   "metadata": {},
   "outputs": [],
   "source": [
    "def finalpreprocess(string):\n",
    "    return lemmatizer(stopword(preprocess(string)))"
   ]
  },
  {
   "cell_type": "code",
   "execution_count": 126,
   "metadata": {},
   "outputs": [
    {
     "data": {
      "text/html": [
       "<div>\n",
       "<style scoped>\n",
       "    .dataframe tbody tr th:only-of-type {\n",
       "        vertical-align: middle;\n",
       "    }\n",
       "\n",
       "    .dataframe tbody tr th {\n",
       "        vertical-align: top;\n",
       "    }\n",
       "\n",
       "    .dataframe thead th {\n",
       "        text-align: right;\n",
       "    }\n",
       "</style>\n",
       "<table border=\"1\" class=\"dataframe\">\n",
       "  <thead>\n",
       "    <tr style=\"text-align: right;\">\n",
       "      <th></th>\n",
       "      <th>review_stars</th>\n",
       "      <th>text</th>\n",
       "    </tr>\n",
       "  </thead>\n",
       "  <tbody>\n",
       "    <tr>\n",
       "      <th>0</th>\n",
       "      <td>5</td>\n",
       "      <td>What a great addition to the Funk Zone!  Grab ...</td>\n",
       "    </tr>\n",
       "    <tr>\n",
       "      <th>1</th>\n",
       "      <td>5</td>\n",
       "      <td>Possibly the best breakfast sandwich EVER.  On...</td>\n",
       "    </tr>\n",
       "    <tr>\n",
       "      <th>2</th>\n",
       "      <td>4</td>\n",
       "      <td>Pricey ( a ham and cheese croissant was $5.50)...</td>\n",
       "    </tr>\n",
       "    <tr>\n",
       "      <th>3</th>\n",
       "      <td>5</td>\n",
       "      <td>Are you kidding me? This is without a doubt so...</td>\n",
       "    </tr>\n",
       "    <tr>\n",
       "      <th>4</th>\n",
       "      <td>2</td>\n",
       "      <td>Super slow service, \"salads\" are not very good...</td>\n",
       "    </tr>\n",
       "    <tr>\n",
       "      <th>...</th>\n",
       "      <td>...</td>\n",
       "      <td>...</td>\n",
       "    </tr>\n",
       "    <tr>\n",
       "      <th>205459</th>\n",
       "      <td>5</td>\n",
       "      <td>This is one of my new favorite pizza joints he...</td>\n",
       "    </tr>\n",
       "    <tr>\n",
       "      <th>205460</th>\n",
       "      <td>4</td>\n",
       "      <td>Ordered vegan chicken and Daiya cheese and onl...</td>\n",
       "    </tr>\n",
       "    <tr>\n",
       "      <th>205461</th>\n",
       "      <td>1</td>\n",
       "      <td>This was the worst pizza I've ever had ever ea...</td>\n",
       "    </tr>\n",
       "    <tr>\n",
       "      <th>205462</th>\n",
       "      <td>5</td>\n",
       "      <td>One of the best pizzas in SB....seriously!!!\\n...</td>\n",
       "    </tr>\n",
       "    <tr>\n",
       "      <th>205463</th>\n",
       "      <td>5</td>\n",
       "      <td>We wanted a calzone and it was getting around ...</td>\n",
       "    </tr>\n",
       "  </tbody>\n",
       "</table>\n",
       "<p>205464 rows × 2 columns</p>\n",
       "</div>"
      ],
      "text/plain": [
       "        review_stars                                               text\n",
       "0                  5  What a great addition to the Funk Zone!  Grab ...\n",
       "1                  5  Possibly the best breakfast sandwich EVER.  On...\n",
       "2                  4  Pricey ( a ham and cheese croissant was $5.50)...\n",
       "3                  5  Are you kidding me? This is without a doubt so...\n",
       "4                  2  Super slow service, \"salads\" are not very good...\n",
       "...              ...                                                ...\n",
       "205459             5  This is one of my new favorite pizza joints he...\n",
       "205460             4  Ordered vegan chicken and Daiya cheese and onl...\n",
       "205461             1  This was the worst pizza I've ever had ever ea...\n",
       "205462             5  One of the best pizzas in SB....seriously!!!\\n...\n",
       "205463             5  We wanted a calzone and it was getting around ...\n",
       "\n",
       "[205464 rows x 2 columns]"
      ]
     },
     "execution_count": 126,
     "metadata": {},
     "output_type": "execute_result"
    }
   ],
   "source": [
    "df"
   ]
  },
  {
   "cell_type": "code",
   "execution_count": 118,
   "metadata": {},
   "outputs": [],
   "source": [
    "df=df[[\"review_stars\",\"text\"]]"
   ]
  },
  {
   "cell_type": "code",
   "execution_count": 132,
   "metadata": {},
   "outputs": [
    {
     "data": {
      "text/plain": [
       "(205464, 2)"
      ]
     },
     "execution_count": 132,
     "metadata": {},
     "output_type": "execute_result"
    }
   ],
   "source": [
    "df.shape"
   ]
  },
  {
   "cell_type": "code",
   "execution_count": 120,
   "metadata": {},
   "outputs": [],
   "source": [
    "train, test = train_test_split(df, test_size=0.4)"
   ]
  },
  {
   "cell_type": "code",
   "execution_count": 131,
   "metadata": {},
   "outputs": [
    {
     "data": {
      "text/plain": [
       "(123278, 2)"
      ]
     },
     "execution_count": 131,
     "metadata": {},
     "output_type": "execute_result"
    }
   ],
   "source": [
    "train.shape"
   ]
  },
  {
   "cell_type": "code",
   "execution_count": 130,
   "metadata": {},
   "outputs": [
    {
     "data": {
      "text/plain": [
       "(82186, 2)"
      ]
     },
     "execution_count": 130,
     "metadata": {},
     "output_type": "execute_result"
    }
   ],
   "source": [
    "test.shape"
   ]
  },
  {
   "cell_type": "code",
   "execution_count": 135,
   "metadata": {},
   "outputs": [],
   "source": [
    "testing_swifter=train[[\"text\"]]"
   ]
  },
  {
   "cell_type": "code",
   "execution_count": 136,
   "metadata": {},
   "outputs": [
    {
     "data": {
      "text/plain": [
       "True"
      ]
     },
     "execution_count": 136,
     "metadata": {},
     "output_type": "execute_result"
    }
   ],
   "source": [
    "### checking the newdf\n",
    "len(testing_swifter)==len(train)"
   ]
  },
  {
   "cell_type": "code",
   "execution_count": 137,
   "metadata": {},
   "outputs": [
    {
     "data": {
      "text/plain": [
       "(123278, 1)"
      ]
     },
     "execution_count": 137,
     "metadata": {},
     "output_type": "execute_result"
    }
   ],
   "source": [
    "testing_swifter.shape"
   ]
  },
  {
   "cell_type": "code",
   "execution_count": 151,
   "metadata": {},
   "outputs": [],
   "source": [
    "from swifter import swifter\n",
    "from swifter import tqdm_dask_progressbar"
   ]
  },
  {
   "cell_type": "code",
   "execution_count": 158,
   "metadata": {},
   "outputs": [
    {
     "name": "stderr",
     "output_type": "stream",
     "text": [
      "Pandas Apply: 100%|██████████| 123278/123278 [28:56<00:00, 71.00it/s] "
     ]
    },
    {
     "name": "stdout",
     "output_type": "stream",
     "text": [
      "--- 1772.5565288066864 seconds ---\n"
     ]
    },
    {
     "name": "stderr",
     "output_type": "stream",
     "text": [
      "\n"
     ]
    }
   ],
   "source": [
    "import time\n",
    "start_time = time.time()\n",
    "testing_swifter['clean_text']= testing_swifter[\"text\"].swifter.apply(lambda x: finalpreprocess(x))\n",
    "print(\"--- %s seconds ---\" % (time.time() - start_time))"
   ]
  },
  {
   "cell_type": "code",
   "execution_count": 160,
   "metadata": {},
   "outputs": [
    {
     "data": {
      "text/plain": [
       "True"
      ]
     },
     "execution_count": 160,
     "metadata": {},
     "output_type": "execute_result"
    }
   ],
   "source": [
    "len(testing_swifter)==len(train)"
   ]
  },
  {
   "cell_type": "code",
   "execution_count": 163,
   "metadata": {},
   "outputs": [
    {
     "data": {
      "text/html": [
       "<div>\n",
       "<style scoped>\n",
       "    .dataframe tbody tr th:only-of-type {\n",
       "        vertical-align: middle;\n",
       "    }\n",
       "\n",
       "    .dataframe tbody tr th {\n",
       "        vertical-align: top;\n",
       "    }\n",
       "\n",
       "    .dataframe thead th {\n",
       "        text-align: right;\n",
       "    }\n",
       "</style>\n",
       "<table border=\"1\" class=\"dataframe\">\n",
       "  <thead>\n",
       "    <tr style=\"text-align: right;\">\n",
       "      <th></th>\n",
       "      <th>review_stars</th>\n",
       "      <th>text</th>\n",
       "    </tr>\n",
       "  </thead>\n",
       "  <tbody>\n",
       "    <tr>\n",
       "      <th>87687</th>\n",
       "      <td>1</td>\n",
       "      <td>Currently I  am at Cajun Kitchen on Chapala an...</td>\n",
       "    </tr>\n",
       "  </tbody>\n",
       "</table>\n",
       "</div>"
      ],
      "text/plain": [
       "       review_stars                                               text\n",
       "87687             1  Currently I  am at Cajun Kitchen on Chapala an..."
      ]
     },
     "execution_count": 163,
     "metadata": {},
     "output_type": "execute_result"
    }
   ],
   "source": []
  },
  {
   "cell_type": "code",
   "execution_count": 165,
   "metadata": {},
   "outputs": [],
   "source": [
    "new_text_train=testing_swifter['clean_text'].values.tolist()\n",
    "new_stars_train=train[\"review_stars\"].values.tolist()"
   ]
  },
  {
   "cell_type": "code",
   "execution_count": 167,
   "metadata": {},
   "outputs": [],
   "source": [
    "new_text_test=test['text'].values.tolist()\n",
    "new_stars_test=test[\"review_stars\"].values.tolist()"
   ]
  },
  {
   "cell_type": "code",
   "execution_count": 168,
   "metadata": {},
   "outputs": [
    {
     "data": {
      "text/plain": [
       "True"
      ]
     },
     "execution_count": 168,
     "metadata": {},
     "output_type": "execute_result"
    }
   ],
   "source": [
    "len(new_text_test)==len(new_stars_test)"
   ]
  },
  {
   "cell_type": "code",
   "execution_count": 215,
   "metadata": {},
   "outputs": [
    {
     "data": {
      "text/plain": [
       "Pipeline(steps=[('vect', TfidfVectorizer()), ('tfidf', TfidfTransformer()),\n",
       "                ('clf', LinearSVC())])"
      ]
     },
     "execution_count": 215,
     "metadata": {},
     "output_type": "execute_result"
    }
   ],
   "source": [
    "newpipeline.fit(new_text_train,new_stars_train)"
   ]
  },
  {
   "cell_type": "code",
   "execution_count": 171,
   "metadata": {},
   "outputs": [],
   "source": [
    "from sklearn.feature_extraction.text import TfidfVectorizer"
   ]
  },
  {
   "cell_type": "code",
   "execution_count": 213,
   "metadata": {},
   "outputs": [],
   "source": [
    "newpipeline = Pipeline([('vect', TfidfVectorizer()),\n",
    "    ('tfidf', TfidfTransformer()), \n",
    "    ('clf', LinearSVC())])"
   ]
  },
  {
   "cell_type": "code",
   "execution_count": 216,
   "metadata": {},
   "outputs": [
    {
     "name": "stdout",
     "output_type": "stream",
     "text": [
      "Training set score: 0.8257515533996334\n",
      "Test set score: 0.6436010999440294\n"
     ]
    }
   ],
   "source": [
    "print('Training set score: ' + str(newpipeline.score(new_text_train,new_stars_train)))\n",
    "print('Test set score: ' + str(newpipeline.score(new_text_test,new_stars_test)))"
   ]
  },
  {
   "cell_type": "code",
   "execution_count": 210,
   "metadata": {},
   "outputs": [],
   "source": [
    "newpipeline_nb = Pipeline([('vect', TfidfVectorizer()),\n",
    "    ('tfidf', TfidfTransformer()), \n",
    "    ('nb_clf',  MultinomialNB())])"
   ]
  },
  {
   "cell_type": "code",
   "execution_count": 211,
   "metadata": {},
   "outputs": [
    {
     "data": {
      "text/plain": [
       "Pipeline(steps=[('vect', TfidfVectorizer()), ('tfidf', TfidfTransformer()),\n",
       "                ('nb_clf', MultinomialNB())])"
      ]
     },
     "execution_count": 211,
     "metadata": {},
     "output_type": "execute_result"
    }
   ],
   "source": [
    "newpipeline_nb.fit(new_text_train,new_stars_train)"
   ]
  },
  {
   "cell_type": "code",
   "execution_count": 212,
   "metadata": {},
   "outputs": [
    {
     "name": "stdout",
     "output_type": "stream",
     "text": [
      "Training set score: 0.5855302649296712\n",
      "Test set score: 0.5522595089187939\n"
     ]
    }
   ],
   "source": [
    "print('Training set score: ' + str(newpipeline_nb.score(new_text_train,new_stars_train)))\n",
    "print('Test set score: ' + str(newpipeline_nb.score(new_text_test,new_stars_test)))"
   ]
  },
  {
   "cell_type": "code",
   "execution_count": null,
   "metadata": {},
   "outputs": [],
   "source": [
    "(SGDClassifier(loss='modified_huber', penalty='l1',alpha=1e-3, random_state=42))"
   ]
  },
  {
   "cell_type": "code",
   "execution_count": 203,
   "metadata": {},
   "outputs": [],
   "source": [
    "newpipeline_SGD = Pipeline([('vect', TfidfVectorizer()),\n",
    "    ('tfidf', TfidfTransformer()), \n",
    "    ('SGD',SGDClassifier(loss='modified_huber', penalty='l1',alpha=1e-3, random_state=42))])"
   ]
  },
  {
   "cell_type": "code",
   "execution_count": 204,
   "metadata": {},
   "outputs": [
    {
     "data": {
      "text/plain": [
       "Pipeline(steps=[('vect', TfidfVectorizer()), ('tfidf', TfidfTransformer()),\n",
       "                ('SGD',\n",
       "                 SGDClassifier(alpha=0.001, loss='modified_huber', penalty='l1',\n",
       "                               random_state=42))])"
      ]
     },
     "execution_count": 204,
     "metadata": {},
     "output_type": "execute_result"
    }
   ],
   "source": [
    "newpipeline_SGD.fit(new_text_train,new_stars_train)"
   ]
  },
  {
   "cell_type": "code",
   "execution_count": 195,
   "metadata": {},
   "outputs": [],
   "source": [
    "testing_swifter_test=test[[\"text\"]]"
   ]
  },
  {
   "cell_type": "code",
   "execution_count": 196,
   "metadata": {},
   "outputs": [
    {
     "data": {
      "text/plain": [
       "82186"
      ]
     },
     "execution_count": 196,
     "metadata": {},
     "output_type": "execute_result"
    }
   ],
   "source": [
    "len(testing_swifter_test)"
   ]
  },
  {
   "cell_type": "code",
   "execution_count": 197,
   "metadata": {},
   "outputs": [
    {
     "name": "stderr",
     "output_type": "stream",
     "text": [
      "Pandas Apply: 100%|██████████| 82186/82186 [17:33<00:00, 78.01it/s] \n"
     ]
    }
   ],
   "source": [
    "testing_swifter_test['clean_text']= testing_swifter_test[\"text\"].swifter.apply(lambda x: finalpreprocess(x))"
   ]
  },
  {
   "cell_type": "code",
   "execution_count": 198,
   "metadata": {},
   "outputs": [],
   "source": [
    "new_text_test=testing_swifter_test['clean_text'].values.tolist()\n",
    "new_stars_test=test[\"review_stars\"].values.tolist()"
   ]
  },
  {
   "cell_type": "code",
   "execution_count": 199,
   "metadata": {},
   "outputs": [
    {
     "data": {
      "text/plain": [
       "True"
      ]
     },
     "execution_count": 199,
     "metadata": {},
     "output_type": "execute_result"
    }
   ],
   "source": [
    "len(new_text_test)==len(new_stars_test)"
   ]
  },
  {
   "cell_type": "code",
   "execution_count": 205,
   "metadata": {},
   "outputs": [
    {
     "name": "stdout",
     "output_type": "stream",
     "text": [
      "Test set score: 0.5716302046577276\n"
     ]
    }
   ],
   "source": [
    "print('Test set score: ' + str(newpipeline_SGD.score(new_text_test,new_stars_test)))"
   ]
  },
  {
   "cell_type": "code",
   "execution_count": null,
   "metadata": {},
   "outputs": [],
   "source": []
  }
 ],
 "metadata": {
  "kernelspec": {
   "display_name": "Python 3.7.12 ('testinggrounds')",
   "language": "python",
   "name": "python3"
  },
  "language_info": {
   "codemirror_mode": {
    "name": "ipython",
    "version": 3
   },
   "file_extension": ".py",
   "mimetype": "text/x-python",
   "name": "python",
   "nbconvert_exporter": "python",
   "pygments_lexer": "ipython3",
   "version": "3.7.12"
  },
  "orig_nbformat": 4,
  "vscode": {
   "interpreter": {
    "hash": "be1130cc366ce64c2af566ee12e797ac4446b6a928687bd6f2dd0eaf2725f7ce"
   }
  }
 },
 "nbformat": 4,
 "nbformat_minor": 2
}
